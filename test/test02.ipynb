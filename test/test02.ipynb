{
 "cells": [
  {
   "cell_type": "code",
   "execution_count": 1,
   "metadata": {},
   "outputs": [],
   "source": [
    "import pandas as pd\n",
    "from sklearn.feature_extraction.text import TfidfVectorizer\n",
    "from sklearn.cluster import KMeans"
   ]
  },
  {
   "cell_type": "code",
   "execution_count": 5,
   "metadata": {},
   "outputs": [
    {
     "name": "stdout",
     "output_type": "stream",
     "text": [
      "Cluster 1 :\n",
      "2    orange\n",
      "4     grape\n",
      "Name: text, dtype: object\n",
      "Cluster 2 :\n",
      "0    apple\n",
      "3    apple\n",
      "Name: text, dtype: object\n",
      "Cluster 3 :\n",
      "1    banana\n",
      "Name: text, dtype: object\n",
      "Cluster 4 :\n",
      "5    car\n",
      "Name: text, dtype: object\n"
     ]
    }
   ],
   "source": [
    "# データフレームの作成\n",
    "data = {'text': ['apple', 'banana', 'orange', 'apple', 'grape', 'car']}\n",
    "df = pd.DataFrame(data)\n",
    "\n",
    "# テキストをTF-IDFベクトル化する\n",
    "vectorizer = TfidfVectorizer()\n",
    "X = vectorizer.fit_transform(df['text'])\n",
    "\n",
    "# k-meansクラスタリングを実行\n",
    "num_clusters = 4  # クラスタ数\n",
    "kmeans = KMeans(n_clusters=num_clusters)\n",
    "kmeans.fit(X)\n",
    "\n",
    "# クラスタリング結果を表示\n",
    "clusters = kmeans.labels_\n",
    "for i in range(num_clusters):\n",
    "    print(\"Cluster\", i+1, \":\")\n",
    "    cluster_samples = df.iloc[clusters == i]['text']\n",
    "    print(cluster_samples)"
   ]
  }
 ],
 "metadata": {
  "kernelspec": {
   "display_name": "base",
   "language": "python",
   "name": "python3"
  },
  "language_info": {
   "codemirror_mode": {
    "name": "ipython",
    "version": 3
   },
   "file_extension": ".py",
   "mimetype": "text/x-python",
   "name": "python",
   "nbconvert_exporter": "python",
   "pygments_lexer": "ipython3",
   "version": "3.10.10"
  }
 },
 "nbformat": 4,
 "nbformat_minor": 2
}
